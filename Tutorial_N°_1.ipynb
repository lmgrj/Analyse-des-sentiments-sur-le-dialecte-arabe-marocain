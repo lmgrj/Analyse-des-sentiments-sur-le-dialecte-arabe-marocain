{
  "cells": [
    {
      "cell_type": "markdown",
      "metadata": {
        "id": "view-in-github",
        "colab_type": "text"
      },
      "source": [
        "<a href=\"https://colab.research.google.com/github/lmgrj/Analyse-des-sentiments-sur-le-dialecte-arabe-marocain/blob/main/Tutorial_N%C2%B0_1.ipynb\" target=\"_parent\"><img src=\"https://colab.research.google.com/assets/colab-badge.svg\" alt=\"Open In Colab\"/></a>"
      ]
    },
    {
      "cell_type": "markdown",
      "source": [
        "<center><h1>WISD&EID2/Deep Learning</center></h1> \n",
        "\n",
        "<center><h1>TP 1 </center><h1>\n",
        "\n",
        "<center><h1>Tensors avec PyTorch</center><h1>\n",
        "\n",
        "\n",
        "---\n",
        "By: **Lamgarraj Mohamed**   &   **Yazid Tagnaouti Moumnani**\n",
        "\n",
        "\n",
        "---\n"
      ],
      "metadata": {
        "id": "aoOGjC65lLZl"
      }
    },
    {
      "cell_type": "markdown",
      "metadata": {
        "id": "_CbFpfuEkhZL"
      },
      "source": [
        "# Deep Learning\n",
        "## Practical Deep Learning Tutorial with PyTorch - Tutorial N° 1"
      ]
    },
    {
      "cell_type": "markdown",
      "metadata": {
        "id": "9rdpW_n2khZT"
      },
      "source": [
        "### 2021-2022"
      ]
    },
    {
      "cell_type": "markdown",
      "metadata": {
        "id": "um2c7v7QkhZU"
      },
      "source": [
        "# 0. Presentation"
      ]
    },
    {
      "cell_type": "markdown",
      "metadata": {
        "id": "pxVMUFkhkhZV"
      },
      "source": [
        "PyTorch is an open source machine learning library based on the Torch library, used for applications such as computer\n",
        "vision and natural language processing, primarily developed by Facebook's AI Research lab (FAIR).\n",
        "It is free and open-source software released under the Modified BSD license. Although the Python interface is \n",
        "more polished and the primary focus of development, PyTorch also has a C++ interface.\n",
        "\n",
        "A number of pieces of Deep Learning software are built on top of PyTorch, including Tesla Autopilot,Uber's Pyro, \n",
        "HuggingFace's Transformers, PyTorch Lightning, and Catalyst.\n",
        "\n",
        "PyTorch provides two high-level features:\n",
        "    \n",
        "    1. Tensor computing (like NumPy) with strong acceleration via graphics processing units (GPU) \n",
        "    \n",
        "    2. Deep neural networks built on a tape-based automatic differentiation system \n",
        " "
      ]
    },
    {
      "cell_type": "markdown",
      "metadata": {
        "id": "52DDUZ16khZW"
      },
      "source": [
        "# 1. Installation"
      ]
    },
    {
      "cell_type": "markdown",
      "metadata": {
        "id": "EkvfQoH5khZX"
      },
      "source": [
        "<span style='color:green '> Anaconda : To install PyTorch via Anaconda, use the following conda command: </span>"
      ]
    },
    {
      "cell_type": "raw",
      "metadata": {
        "id": "Y_Hd_3lHkhZY"
      },
      "source": [
        "conda install pytorch torchvision -c pytorch"
      ]
    },
    {
      "cell_type": "markdown",
      "metadata": {
        "id": "3jSJgwX3khZZ"
      },
      "source": [
        "<span style='color:blue '> Pip : To install PyTorch via pip, use the following command: </span>"
      ]
    },
    {
      "cell_type": "raw",
      "metadata": {
        "id": "mHrjOWmXkhZa"
      },
      "source": [
        "pip3 install torch torchvision"
      ]
    },
    {
      "cell_type": "markdown",
      "metadata": {
        "id": "SzFM4ncikhZb"
      },
      "source": [
        "Verification : To ensure that PyTorch was installed correctly, we can verify the installation by importing the torch module."
      ]
    },
    {
      "cell_type": "code",
      "execution_count": null,
      "metadata": {
        "id": "IJoaenTJkhZc"
      },
      "outputs": [],
      "source": [
        "import torch"
      ]
    },
    {
      "cell_type": "markdown",
      "metadata": {
        "id": "5r8w5bdmkhZd"
      },
      "source": [
        "# 2. Tensors"
      ]
    },
    {
      "cell_type": "markdown",
      "metadata": {
        "id": "1SNKWpN4khZe"
      },
      "source": [
        "<span style='color:green'>\n",
        "At its core, PyTorch is a library for processing tensors. A tensor is a number, vector, matrix, or any n-dimensional array. Let's create a tensor with a single number.\n",
        "</span>"
      ]
    },
    {
      "cell_type": "code",
      "execution_count": null,
      "metadata": {
        "id": "PzME5RsTkhZf",
        "outputId": "0d87aabb-35ed-4b0e-feab-1388abc261b6"
      },
      "outputs": [
        {
          "data": {
            "text/plain": [
              "tensor(2.)"
            ]
          },
          "execution_count": 26,
          "metadata": {},
          "output_type": "execute_result"
        }
      ],
      "source": [
        "#Create a scalar (zero-dimensional tensor)\n",
        "t0 = torch.tensor(2.)\n",
        "t0"
      ]
    },
    {
      "cell_type": "code",
      "execution_count": null,
      "metadata": {
        "id": "boudws3WkhZg",
        "outputId": "a587523a-4c95-465b-e84e-31c7e2dcbab6"
      },
      "outputs": [
        {
          "data": {
            "text/plain": [
              "torch.Size([])"
            ]
          },
          "execution_count": 28,
          "metadata": {},
          "output_type": "execute_result"
        }
      ],
      "source": [
        "t0.shape"
      ]
    },
    {
      "cell_type": "markdown",
      "metadata": {
        "id": "CkKpW34_khZg"
      },
      "source": [
        "<span style='color:red'> \n",
        "\"2.\" is a shorthand for 2.0. It is used to indicate to Python (and PyTorch) that you want to create a floating-point number. We can verify this by checking the dtype attribute of our tensor.\n",
        "</span>"
      ]
    },
    {
      "cell_type": "code",
      "execution_count": null,
      "metadata": {
        "id": "Ri0aB9WGkhZh",
        "outputId": "21d9df73-9862-4f04-f410-eb414d054b1f"
      },
      "outputs": [
        {
          "data": {
            "text/plain": [
              "torch.float32"
            ]
          },
          "execution_count": 29,
          "metadata": {},
          "output_type": "execute_result"
        }
      ],
      "source": [
        "t0.dtype"
      ]
    },
    {
      "cell_type": "markdown",
      "metadata": {
        "id": "dtE1zzMikhZi"
      },
      "source": [
        "<span style='color:green'> Let's try creating more complex tensors. </span>"
      ]
    },
    {
      "cell_type": "markdown",
      "metadata": {
        "id": "lpuxR8TvkhZi"
      },
      "source": [
        "### Vectors (1D Tensors)"
      ]
    },
    {
      "cell_type": "code",
      "execution_count": null,
      "metadata": {
        "id": "WKxn47-fkhZi",
        "outputId": "2ec916ab-64c5-40b1-aa9d-0e38df47c710"
      },
      "outputs": [
        {
          "name": "stdout",
          "output_type": "stream",
          "text": [
            "torch.Size([4])\n"
          ]
        }
      ],
      "source": [
        "#Create a vector (one-dimensional tensor)\n",
        "t1 = torch.tensor([1., 2, 3, 4])\n",
        "t1\n",
        "print(t1.shape)"
      ]
    },
    {
      "cell_type": "code",
      "execution_count": null,
      "metadata": {
        "id": "ntywieqnkhZj",
        "outputId": "5d21293a-c82b-47b5-8d30-14e6653c6604"
      },
      "outputs": [
        {
          "name": "stdout",
          "output_type": "stream",
          "text": [
            "dim: 1, size: 4\n"
          ]
        }
      ],
      "source": [
        "# Print number of dimensions (1D) and size of tensor\n",
        "print(f'dim: {t1.dim()}, size: {t1.size()[0]}')"
      ]
    },
    {
      "cell_type": "code",
      "execution_count": null,
      "metadata": {
        "id": "P17AHg52khZk",
        "outputId": "b7cd3674-c592-45a9-970c-92ed6dac3621"
      },
      "outputs": [
        {
          "data": {
            "text/plain": [
              "tensor([1., 0., 2., 0.])"
            ]
          },
          "execution_count": 52,
          "metadata": {},
          "output_type": "execute_result"
        }
      ],
      "source": [
        "t2 = torch.Tensor([1, 0, 2, 0])\n",
        "t2"
      ]
    },
    {
      "cell_type": "code",
      "execution_count": null,
      "metadata": {
        "id": "GntZBCplkhZk",
        "outputId": "8c5910fe-d77a-458a-f2a3-1624e33ee5e9"
      },
      "outputs": [
        {
          "data": {
            "text/plain": [
              "tensor([1., 0., 6., 0.])"
            ]
          },
          "execution_count": 54,
          "metadata": {},
          "output_type": "execute_result"
        }
      ],
      "source": [
        "# Element-wise multiplication\n",
        "t1 * t2"
      ]
    },
    {
      "cell_type": "code",
      "execution_count": null,
      "metadata": {
        "id": "bNTEigzykhZl",
        "outputId": "9c0d9e91-a754-473d-899b-857a247d4876"
      },
      "outputs": [
        {
          "data": {
            "text/plain": [
              "tensor(7.)"
            ]
          },
          "execution_count": 56,
          "metadata": {},
          "output_type": "execute_result"
        }
      ],
      "source": [
        "# Scalar product\n",
        "t1 @ t2"
      ]
    },
    {
      "cell_type": "code",
      "execution_count": null,
      "metadata": {
        "id": "YACGFJaHkhZl",
        "outputId": "22bfa6e3-22c5-4550-fd8b-f27a92474cea"
      },
      "outputs": [
        {
          "data": {
            "text/plain": [
              "tensor([15., 13., 14.,  5., 13., 12., 13.])"
            ]
          },
          "execution_count": 64,
          "metadata": {},
          "output_type": "execute_result"
        }
      ],
      "source": [
        "# In-place replacement of random number from 0 to 20\n",
        "x = torch.Tensor(7).random_(20)\n",
        "x"
      ]
    },
    {
      "cell_type": "code",
      "execution_count": null,
      "metadata": {
        "id": "iCbu7v6_khZm",
        "outputId": "43d8a4ef-c394-43e7-8946-6e4901522407"
      },
      "outputs": [
        {
          "name": "stdout",
          "output_type": "stream",
          "text": [
            "first: 15.0, last: 13.0\n"
          ]
        }
      ],
      "source": [
        "print(f'first: {x[0]}, last: {x[-1]}')"
      ]
    },
    {
      "cell_type": "code",
      "execution_count": null,
      "metadata": {
        "id": "F13Qnu9ekhZm",
        "outputId": "2086827a-347f-496f-e834-39e79c64156f"
      },
      "outputs": [
        {
          "data": {
            "text/plain": [
              "tensor([13., 14.,  5.])"
            ]
          },
          "execution_count": 73,
          "metadata": {},
          "output_type": "execute_result"
        }
      ],
      "source": [
        "# Extract sub-Tensor [from:to) \n",
        "x[1:3+1]"
      ]
    },
    {
      "cell_type": "code",
      "execution_count": null,
      "metadata": {
        "id": "p32MKy-JkhZn",
        "outputId": "7b3b5719-a515-44fd-ea6d-9c45fa830fcc"
      },
      "outputs": [
        {
          "data": {
            "text/plain": [
              "tensor([1, 2, 3, 4])"
            ]
          },
          "execution_count": 80,
          "metadata": {},
          "output_type": "execute_result"
        }
      ],
      "source": [
        "# Create a tensor with integers ranging from 1 to 4, excluding 4\n",
        "v = torch.arange(1, 4+1)\n",
        "v"
      ]
    },
    {
      "cell_type": "code",
      "execution_count": null,
      "metadata": {
        "id": "KQedmkwGkhZn",
        "outputId": "20a0599f-ac8e-4539-e8d5-dac26c077a66"
      },
      "outputs": [
        {
          "name": "stdout",
          "output_type": "stream",
          "text": [
            "tensor([ 1,  4,  9, 16])\n"
          ]
        }
      ],
      "source": [
        "# Square all elements in the tensor\n",
        "print(v.pow(2))"
      ]
    },
    {
      "cell_type": "markdown",
      "metadata": {
        "id": "zldlVX76khZo"
      },
      "source": [
        "### Matrices (2D Tensors)"
      ]
    },
    {
      "cell_type": "code",
      "execution_count": null,
      "metadata": {
        "id": "qmq7siUDkhZo",
        "outputId": "dff86631-500a-4bd3-edbf-48ad6dff0a31"
      },
      "outputs": [
        {
          "data": {
            "text/plain": [
              "tensor([[2., 5., 3., 7.],\n",
              "        [4., 2., 1., 9.]])"
            ]
          },
          "execution_count": 92,
          "metadata": {},
          "output_type": "execute_result"
        }
      ],
      "source": [
        "# Create a matrix (two-dimensional tensor) 2x4 tensor\n",
        "m = torch.Tensor([[2, 5, 3, 7],\n",
        "                  [4, 2, 1, 9]])\n",
        "m"
      ]
    },
    {
      "cell_type": "code",
      "execution_count": null,
      "metadata": {
        "id": "q-zOidztkhZo",
        "outputId": "4737f9b6-6035-4cc0-ff7c-a49308d0ae1c"
      },
      "outputs": [
        {
          "data": {
            "text/plain": [
              "2"
            ]
          },
          "execution_count": 93,
          "metadata": {},
          "output_type": "execute_result"
        }
      ],
      "source": [
        "m.dim()"
      ]
    },
    {
      "cell_type": "code",
      "execution_count": null,
      "metadata": {
        "id": "TAegKERykhZp",
        "outputId": "b4b73a3e-fec8-421b-eb3e-64803458f296"
      },
      "outputs": [
        {
          "name": "stdout",
          "output_type": "stream",
          "text": [
            "2 -- 4 -- torch.Size([2, 4])\n"
          ]
        }
      ],
      "source": [
        "print(m.size(0), m.size(1), m.size(), sep=' -- ')\n"
      ]
    },
    {
      "cell_type": "code",
      "execution_count": null,
      "metadata": {
        "id": "91qkVWfckhZp",
        "outputId": "3417622a-8c16-4449-e836-7399504c6f29"
      },
      "outputs": [
        {
          "data": {
            "text/plain": [
              "8"
            ]
          },
          "execution_count": 96,
          "metadata": {},
          "output_type": "execute_result"
        }
      ],
      "source": [
        "# Returns the total number of elements, hence num-el (number of elements)\n",
        "m.numel()"
      ]
    },
    {
      "cell_type": "code",
      "execution_count": null,
      "metadata": {
        "id": "vgCMww45khZq",
        "outputId": "5b0b840a-5231-42b0-fcc7-97f75bc6c88e"
      },
      "outputs": [
        {
          "data": {
            "text/plain": [
              "tensor(3.)"
            ]
          },
          "execution_count": 97,
          "metadata": {},
          "output_type": "execute_result"
        }
      ],
      "source": [
        "# Indexing row 0, column 2 (0-indexed)\n",
        "m[0][2]"
      ]
    },
    {
      "cell_type": "code",
      "execution_count": null,
      "metadata": {
        "id": "hASvrIDZkhZq",
        "outputId": "b847b1aa-08fb-47b9-a73c-972d7e1de9db"
      },
      "outputs": [
        {
          "data": {
            "text/plain": [
              "tensor(3.)"
            ]
          },
          "execution_count": 102,
          "metadata": {},
          "output_type": "execute_result"
        }
      ],
      "source": [
        "# Indexing row 0, column 2 (0-indexed)\n",
        "m[0,2]"
      ]
    },
    {
      "cell_type": "code",
      "execution_count": null,
      "metadata": {
        "id": "hl_0z4IDkhZq",
        "outputId": "363a33bd-04e2-4d15-99e4-f8da2ec71e9d"
      },
      "outputs": [
        {
          "name": "stdout",
          "output_type": "stream",
          "text": [
            "tensor([5., 2.])\n",
            "torch.Size([2])\n"
          ]
        }
      ],
      "source": [
        "# Indexing column 1, all rows (returns size 2)\n",
        "print(m[:, 1])\n",
        "print(m[:, 1].size())"
      ]
    },
    {
      "cell_type": "code",
      "execution_count": null,
      "metadata": {
        "id": "j2qBbHGmkhZr",
        "outputId": "8f9ce65e-9d3a-4a17-b635-0cc6a545682b"
      },
      "outputs": [
        {
          "name": "stdout",
          "output_type": "stream",
          "text": [
            "torch.Size([2, 1])\n"
          ]
        }
      ],
      "source": [
        "# Indexing column 1, all rows (returns size 2x1)\n",
        "m[:, [1]]\n",
        "print(m[:, [1]].size())"
      ]
    },
    {
      "cell_type": "code",
      "execution_count": null,
      "metadata": {
        "id": "JCbwe2f5khZr",
        "outputId": "1ec71f2e-fe27-48a2-a10c-ede599c9242f"
      },
      "outputs": [
        {
          "data": {
            "text/plain": [
              "tensor([[2., 5., 3., 7.]])"
            ]
          },
          "execution_count": 108,
          "metadata": {},
          "output_type": "execute_result"
        }
      ],
      "source": [
        "# Indexes row 0, all columns (returns 1x4)\n",
        "m[[0], :]"
      ]
    },
    {
      "cell_type": "code",
      "execution_count": null,
      "metadata": {
        "id": "E7oSh9fJkhZs",
        "outputId": "5036e9f1-d8cb-4c41-88d0-6a774fac1aa4"
      },
      "outputs": [
        {
          "data": {
            "text/plain": [
              "tensor([2., 5., 3., 7.])"
            ]
          },
          "execution_count": 112,
          "metadata": {},
          "output_type": "execute_result"
        }
      ],
      "source": [
        "# Indexes row 0, all columns (returns size 4)\n",
        "m[0, :]"
      ]
    },
    {
      "cell_type": "code",
      "execution_count": null,
      "metadata": {
        "id": "OAEvCmgakhZs",
        "outputId": "bf2dfe62-a2b2-4b3b-9b14-72191ef1202d"
      },
      "outputs": [
        {
          "data": {
            "text/plain": [
              "tensor([1., 2., 3., 4.])"
            ]
          },
          "execution_count": 130,
          "metadata": {},
          "output_type": "execute_result"
        }
      ],
      "source": [
        "# Create tensor of numbers from 1 to 5 (excluding 5)\n",
        "v = torch.arange(1., 4 + 1)\n",
        "v"
      ]
    },
    {
      "cell_type": "code",
      "execution_count": null,
      "metadata": {
        "id": "OqkGsBoBkhZt",
        "outputId": "6eab47f0-9b09-4582-d12d-41fec48eb970"
      },
      "outputs": [
        {
          "data": {
            "text/plain": [
              "tensor([[2., 5., 3., 7.],\n",
              "        [4., 2., 1., 9.]])"
            ]
          },
          "execution_count": 134,
          "metadata": {},
          "output_type": "execute_result"
        }
      ],
      "source": [
        "m"
      ]
    },
    {
      "cell_type": "code",
      "execution_count": null,
      "metadata": {
        "id": "e1J-HlcwkhZt",
        "outputId": "c3f99536-9858-4616-d99d-c8242caad343"
      },
      "outputs": [
        {
          "data": {
            "text/plain": [
              "torch.Size([2, 4])"
            ]
          },
          "execution_count": 131,
          "metadata": {},
          "output_type": "execute_result"
        }
      ],
      "source": [
        "m.shape"
      ]
    },
    {
      "cell_type": "code",
      "execution_count": null,
      "metadata": {
        "id": "_FSZ2n5bkhZu",
        "outputId": "45439605-52c9-47b6-8afc-2f6126855f85"
      },
      "outputs": [
        {
          "data": {
            "text/plain": [
              "tensor([49., 47.])"
            ]
          },
          "execution_count": 132,
          "metadata": {},
          "output_type": "execute_result"
        }
      ],
      "source": [
        "# Scalar product\n",
        "m @ v"
      ]
    },
    {
      "cell_type": "code",
      "execution_count": null,
      "metadata": {
        "id": "iOkNkRR2khZu",
        "outputId": "43a8d20c-881d-4807-eacf-86c5b2bb62d5"
      },
      "outputs": [
        {
          "data": {
            "text/plain": [
              "tensor([49.])"
            ]
          },
          "execution_count": 136,
          "metadata": {},
          "output_type": "execute_result"
        }
      ],
      "source": [
        "# Calculated by 1*2 + 2*5 + 3*3 + 4*7\n",
        "m[[0], :] @ v"
      ]
    },
    {
      "cell_type": "code",
      "execution_count": null,
      "metadata": {
        "id": "9PtLfCWvkhZv",
        "outputId": "704f29d9-3582-4f48-884f-88842ca08f77"
      },
      "outputs": [
        {
          "data": {
            "text/plain": [
              "tensor([47.])"
            ]
          },
          "execution_count": 118,
          "metadata": {},
          "output_type": "execute_result"
        }
      ],
      "source": [
        "# Calculated by \n",
        "m[[1], :] @ v"
      ]
    },
    {
      "cell_type": "code",
      "execution_count": null,
      "metadata": {
        "id": "fnZN5mMFkhZv",
        "outputId": "82523964-433f-43dc-8d66-787940c7b679"
      },
      "outputs": [
        {
          "data": {
            "text/plain": [
              "tensor([[2.4035, 5.1108, 3.5377, 7.0114],\n",
              "        [4.9024, 2.1819, 1.2029, 9.2386]])"
            ]
          },
          "execution_count": 141,
          "metadata": {},
          "output_type": "execute_result"
        }
      ],
      "source": [
        "# Add a random tensor of size 2x4 to m\n",
        "m + torch.rand(2, 4)"
      ]
    },
    {
      "cell_type": "code",
      "execution_count": null,
      "metadata": {
        "id": "4iGziHCokhZw",
        "outputId": "b4a6b368-85a1-454a-813d-353384872432"
      },
      "outputs": [
        {
          "data": {
            "text/plain": [
              "tensor([[1.6822, 4.2590, 2.4356, 6.8763],\n",
              "        [3.4430, 1.2640, 0.3296, 8.0835]])"
            ]
          },
          "execution_count": 142,
          "metadata": {},
          "output_type": "execute_result"
        }
      ],
      "source": [
        "# Subtract a random tensor of size 2x4 to m\n",
        "m - torch.rand(2, 4)"
      ]
    },
    {
      "cell_type": "code",
      "execution_count": null,
      "metadata": {
        "id": "QuhxFDG6khZw",
        "outputId": "51f9d945-1de4-43c9-ab94-ffff0dda4e23"
      },
      "outputs": [
        {
          "data": {
            "text/plain": [
              "tensor([[1.4158, 4.8672, 2.0746, 6.9082],\n",
              "        [2.5192, 1.4006, 0.8403, 5.8637]])"
            ]
          },
          "execution_count": 143,
          "metadata": {},
          "output_type": "execute_result"
        }
      ],
      "source": [
        "# Multiply a random tensor of size 2x4 to m\n",
        "m * torch.rand(2, 4)"
      ]
    },
    {
      "cell_type": "code",
      "execution_count": null,
      "metadata": {
        "id": "HrgyhF4ZkhZw",
        "outputId": "2c5fa3f5-f09f-4651-a74f-4b66185a9605"
      },
      "outputs": [
        {
          "data": {
            "text/plain": [
              "tensor([[ 2.2038, 17.7652,  8.7493,  9.3284],\n",
              "        [79.0433,  3.7946,  2.3979, 95.7379]])"
            ]
          },
          "execution_count": 144,
          "metadata": {},
          "output_type": "execute_result"
        }
      ],
      "source": [
        "# Divide m by a random tensor of size 2x4\n",
        "m / torch.rand(2, 4)"
      ]
    },
    {
      "cell_type": "code",
      "execution_count": null,
      "metadata": {
        "id": "5eQ1sVAHkhZx",
        "outputId": "aefd540e-6d73-48c0-960e-3ebc51e24a23"
      },
      "outputs": [
        {
          "data": {
            "text/plain": [
              "torch.Size([2, 4])"
            ]
          },
          "execution_count": 145,
          "metadata": {},
          "output_type": "execute_result"
        }
      ],
      "source": [
        "m.size()"
      ]
    },
    {
      "cell_type": "code",
      "execution_count": null,
      "metadata": {
        "id": "MQYchws0khZx",
        "outputId": "f0453112-123a-4afb-852f-122b2de86351"
      },
      "outputs": [
        {
          "data": {
            "text/plain": [
              "tensor([[2., 4.],\n",
              "        [5., 2.],\n",
              "        [3., 1.],\n",
              "        [7., 9.]])"
            ]
          },
          "execution_count": 146,
          "metadata": {},
          "output_type": "execute_result"
        }
      ],
      "source": [
        "# Transpose tensor m, which is essentially 2x4 to 4x2\n",
        "m.t()"
      ]
    },
    {
      "cell_type": "code",
      "execution_count": null,
      "metadata": {
        "id": "AMH_zGHwkhZx",
        "outputId": "50149b2e-8653-4eb9-9be6-8d551cd27bb0"
      },
      "outputs": [
        {
          "data": {
            "text/plain": [
              "tensor([[2., 4.],\n",
              "        [5., 2.],\n",
              "        [3., 1.],\n",
              "        [7., 9.]])"
            ]
          },
          "execution_count": 147,
          "metadata": {},
          "output_type": "execute_result"
        }
      ],
      "source": [
        "# Same as\n",
        "m.transpose(0, 1)"
      ]
    },
    {
      "cell_type": "markdown",
      "metadata": {
        "id": "toqUzYobkhZx"
      },
      "source": [
        "### (3D Tensors)"
      ]
    },
    {
      "cell_type": "markdown",
      "metadata": {
        "id": "2mVfyahukhZy"
      },
      "source": [
        "<span style='color:green'>\n",
        "Tensors can have any number of dimensions and different lengths along each dimension. We can inspect the length along each dimension using the .shape property of a tensor.\n",
        "</span>"
      ]
    },
    {
      "cell_type": "code",
      "execution_count": null,
      "metadata": {
        "id": "53AHrWB7khZy",
        "outputId": "151ed554-d9f1-4c06-95f9-3eaba6232c37"
      },
      "outputs": [
        {
          "data": {
            "text/plain": [
              "tensor([[[11., 12., 13.,  4.],\n",
              "         [13., 14., 15., 58.],\n",
              "         [13., 14., 15., 58.]],\n",
              "\n",
              "        [[15., 16., 17., 56.],\n",
              "         [17., 18., 19.,  0.],\n",
              "         [13., 14., 15., 58.]]])"
            ]
          },
          "execution_count": 162,
          "metadata": {},
          "output_type": "execute_result"
        }
      ],
      "source": [
        "#Create a 3-dimensional tensor\n",
        "t3 = torch.tensor([[[11,12, 13,4],[13,14,15,58],[13,14,15,58]],[[15,16,17,56],[17,18,19.,0],[13, 14, 15,58]]])\n",
        "t3"
      ]
    },
    {
      "cell_type": "code",
      "execution_count": null,
      "metadata": {
        "id": "HwauqodkkhZy",
        "outputId": "e2f7ae0c-31da-486b-cdc7-8034a9765a94"
      },
      "outputs": [
        {
          "data": {
            "text/plain": [
              "3"
            ]
          },
          "execution_count": 163,
          "metadata": {},
          "output_type": "execute_result"
        }
      ],
      "source": [
        "t3.dim()"
      ]
    },
    {
      "cell_type": "code",
      "execution_count": null,
      "metadata": {
        "id": "GqqgNfdkkhZz",
        "outputId": "ed094bd3-9cc9-46cc-d003-1494fede864e"
      },
      "outputs": [
        {
          "data": {
            "text/plain": [
              "torch.Size([2, 3, 4])"
            ]
          },
          "execution_count": 164,
          "metadata": {},
          "output_type": "execute_result"
        }
      ],
      "source": [
        "t3.shape"
      ]
    },
    {
      "cell_type": "markdown",
      "metadata": {
        "id": "ivXCNTCqkhZz"
      },
      "source": [
        "<span style='color:red '> Note that it's not possible to create tensors with an improper shape. </span>"
      ]
    },
    {
      "cell_type": "code",
      "execution_count": null,
      "metadata": {
        "id": "cvyi-NExkhZz",
        "outputId": "ecfe2c6e-728d-4c22-ab21-1813deb5353e"
      },
      "outputs": [
        {
          "ename": "ValueError",
          "evalue": "expected sequence of length 3 at dim 1 (got 2)",
          "output_type": "error",
          "traceback": [
            "\u001b[0;31m---------------------------------------------------------------------------\u001b[0m",
            "\u001b[0;31mValueError\u001b[0m                                Traceback (most recent call last)",
            "\u001b[0;32m<ipython-input-184-6f605f9ceea3>\u001b[0m in \u001b[0;36m<module>\u001b[0;34m\u001b[0m\n\u001b[1;32m      1\u001b[0m \u001b[0;31m# Matrix (2-dimensional tensor)\u001b[0m\u001b[0;34m\u001b[0m\u001b[0;34m\u001b[0m\u001b[0;34m\u001b[0m\u001b[0m\n\u001b[0;32m----> 2\u001b[0;31m t4 = torch.tensor([[5., 6,11], \n\u001b[0m\u001b[1;32m      3\u001b[0m                    \u001b[0;34m[\u001b[0m\u001b[0;36m7\u001b[0m\u001b[0;34m,\u001b[0m \u001b[0;36m8\u001b[0m\u001b[0;34m]\u001b[0m\u001b[0;34m,\u001b[0m\u001b[0;34m\u001b[0m\u001b[0;34m\u001b[0m\u001b[0m\n\u001b[1;32m      4\u001b[0m                    [9, 10]])\n\u001b[1;32m      5\u001b[0m \u001b[0mt4\u001b[0m\u001b[0;34m\u001b[0m\u001b[0;34m\u001b[0m\u001b[0m\n",
            "\u001b[0;31mValueError\u001b[0m: expected sequence of length 3 at dim 1 (got 2)"
          ]
        }
      ],
      "source": [
        "# Matrix (2-dimensional tensor)\n",
        "t4 = torch.tensor([[5., 6,11], \n",
        "                   [7, 8], \n",
        "                   [9, 10]])\n",
        "t4"
      ]
    },
    {
      "cell_type": "markdown",
      "metadata": {
        "id": "WivGczCDkhZ0"
      },
      "source": [
        "<span style='color:red '> A ValueError is thrown because the lengths of the rows [5., 6, 11] and [7, 8] don't match. </span>"
      ]
    },
    {
      "cell_type": "markdown",
      "metadata": {
        "id": "6s5xyHtskhZ0"
      },
      "source": [
        "### More fun"
      ]
    },
    {
      "cell_type": "code",
      "execution_count": null,
      "metadata": {
        "id": "KPyTIhuDkhZ0",
        "outputId": "e479553d-2b89-4c3f-c98e-28647d1dccf4"
      },
      "outputs": [
        {
          "name": "stdout",
          "output_type": "stream",
          "text": [
            "torch.Size([1, 4]) tensor([[5., 6., 7., 8.]])\n"
          ]
        }
      ],
      "source": [
        "# Creates two tensor of size 1x4\n",
        "a = torch.Tensor([[1, 2, 3, 4]])\n",
        "b = torch.Tensor([[5, 6, 7, 8]])\n",
        "print(a.size(), b)"
      ]
    },
    {
      "cell_type": "code",
      "execution_count": null,
      "metadata": {
        "id": "NOL8OIAGkhZ0",
        "outputId": "c2199616-d7f6-4f4b-ed02-d05e2653d1e3"
      },
      "outputs": [
        {
          "data": {
            "text/plain": [
              "tensor([[1., 2., 3., 4.],\n",
              "        [5., 6., 7., 8.]])"
            ]
          },
          "execution_count": 189,
          "metadata": {},
          "output_type": "execute_result"
        }
      ],
      "source": [
        "# Concatenate on axis 0, so you get 2x4\n",
        "torch.cat((a, b),0)"
      ]
    },
    {
      "cell_type": "code",
      "execution_count": null,
      "metadata": {
        "id": "fR2qVLsskhZ1",
        "outputId": "a0ebc4fe-10d6-42b0-8009-6af44d1c5280"
      },
      "outputs": [
        {
          "data": {
            "text/plain": [
              "tensor([[1., 2., 3., 4., 5., 6., 7., 8.]])"
            ]
          },
          "execution_count": 190,
          "metadata": {},
          "output_type": "execute_result"
        }
      ],
      "source": [
        "# Concatenate on axis 1, so you get 1x8\n",
        "torch.cat((a, b), 1)"
      ]
    },
    {
      "cell_type": "markdown",
      "metadata": {
        "id": "LoWV1M2DkhZ1"
      },
      "source": [
        "# 3. Tensor operations and gradients"
      ]
    },
    {
      "cell_type": "markdown",
      "metadata": {
        "id": "Fntb-UmMkhZ1"
      },
      "source": [
        "<span style='color:green'> We can combine tensors with the usual arithmetic operations. Let's look at an example: </span>"
      ]
    },
    {
      "cell_type": "code",
      "execution_count": null,
      "metadata": {
        "id": "VhOHUjYtkhZ1",
        "outputId": "e15a0886-f8af-4d8f-b5c6-611449220439"
      },
      "outputs": [
        {
          "data": {
            "text/plain": [
              "(tensor(3.), tensor(4., requires_grad=True), tensor(5., requires_grad=True))"
            ]
          },
          "execution_count": 21,
          "metadata": {},
          "output_type": "execute_result"
        }
      ],
      "source": [
        "# Create tensors.\n",
        "x = torch.tensor(3.)\n",
        "w = torch.tensor(4., requires_grad=True)\n",
        "b = torch.tensor(5., requires_grad=True)\n",
        "x, w, b"
      ]
    },
    {
      "cell_type": "markdown",
      "metadata": {
        "id": "HKUFukJNkhZ2"
      },
      "source": [
        "<span style='color:green'> We've created three tensors: x, w, and b, all numbers. w and b have an additional parameter requires_grad set to True. We'll see what it does in just a moment.\n",
        "Let's create a new tensor y by combining these tensors. </span>"
      ]
    },
    {
      "cell_type": "code",
      "execution_count": null,
      "metadata": {
        "id": "RbYhnGPGkhZ2",
        "outputId": "3672e326-a998-44ec-b688-aa6ab0a42d90"
      },
      "outputs": [
        {
          "data": {
            "text/plain": [
              "tensor(17., grad_fn=<AddBackward0>)"
            ]
          },
          "execution_count": 22,
          "metadata": {},
          "output_type": "execute_result"
        }
      ],
      "source": [
        "# Arithmetic operations\n",
        "y = w * x + b\n",
        "y"
      ]
    },
    {
      "cell_type": "markdown",
      "metadata": {
        "id": "IOWWND6BkhZ2"
      },
      "source": [
        "As expected, y is a tensor with the value 4 * 3 + 5 = 17. What makes PyTorch unique is that we can automatically compute the derivative of y w.r.t. the tensors that have requires_grad set to True i.e. w and b. This feature of PyTorch is called autograd (automatic gradients).\n",
        "\n",
        "To compute the derivatives, we can invoke the .backward method on our result y."
      ]
    },
    {
      "cell_type": "code",
      "execution_count": null,
      "metadata": {
        "id": "56qWX7klkhZ3"
      },
      "outputs": [],
      "source": [
        "# Compute derivatives\n",
        "y.backward()"
      ]
    },
    {
      "cell_type": "markdown",
      "metadata": {
        "id": "mkFU-mjJkhZ3"
      },
      "source": [
        "The derivatives of y with respect to the input tensors are stored in the .grad property of the respective tensors.\n",
        "\n"
      ]
    },
    {
      "cell_type": "code",
      "execution_count": null,
      "metadata": {
        "id": "5Iw4ilcKkhZ3",
        "outputId": "ffe6d642-d2d3-4ac9-820b-a1bb36ea484e"
      },
      "outputs": [
        {
          "name": "stdout",
          "output_type": "stream",
          "text": [
            "dy/dx: None\n",
            "dy/dw: tensor(3.)\n",
            "dy/db: tensor(1.)\n"
          ]
        }
      ],
      "source": [
        "# Display gradients\n",
        "print('dy/dx:', x.grad)\n",
        "print('dy/dw:', w.grad)\n",
        "print('dy/db:', b.grad)"
      ]
    },
    {
      "cell_type": "markdown",
      "metadata": {
        "id": "C2wB-xpOkhZ3"
      },
      "source": [
        "As expected, dy/dw has the same value as x, i.e., 3, and dy/db has the value 1. Note that x.grad is None because x doesn't have requires_grad set to True.\n",
        "\n",
        "The \"grad\" in w.grad is short for gradient, which is another term for derivative. The term gradient is primarily used while dealing with vectors and matrices."
      ]
    },
    {
      "cell_type": "markdown",
      "metadata": {
        "id": "v948_JU1khZ4"
      },
      "source": [
        "# 4.Tensor functions"
      ]
    },
    {
      "cell_type": "markdown",
      "metadata": {
        "id": "ZbWIpSHjkhZ4"
      },
      "source": [
        "Apart from arithmetic operations, the torch module also contains many functions for creating and manipulating tensors. Let's look at some examples."
      ]
    },
    {
      "cell_type": "code",
      "execution_count": null,
      "metadata": {
        "id": "-rrQsaLFkhZ4",
        "outputId": "56179e57-4d0d-4c0a-f699-e3982035d752"
      },
      "outputs": [
        {
          "data": {
            "text/plain": [
              "tensor([[42, 42],\n",
              "        [42, 42],\n",
              "        [42, 42]])"
            ]
          },
          "execution_count": 25,
          "metadata": {},
          "output_type": "execute_result"
        }
      ],
      "source": [
        "# Create a tensor with a fixed value for every element\n",
        "t6 = torch.full((3, 2), 42)\n",
        "t6"
      ]
    },
    {
      "cell_type": "code",
      "execution_count": null,
      "metadata": {
        "id": "zIK6_TKkkhZ5",
        "outputId": "7d2cee1e-5706-4624-e450-b7b9d42ba30f"
      },
      "outputs": [
        {
          "data": {
            "text/plain": [
              "tensor([[0., 0., 0.],\n",
              "        [0., 0., 0.]])"
            ]
          },
          "execution_count": 26,
          "metadata": {},
          "output_type": "execute_result"
        }
      ],
      "source": [
        "# Create a tensor filled with the scalar value 0, with the shape defined by the variable argument size.\n",
        "t10=torch.zeros(2, 3)\n",
        "t10"
      ]
    },
    {
      "cell_type": "code",
      "execution_count": null,
      "metadata": {
        "id": "XSG0xZUUkhZ5",
        "outputId": "9495e095-af0d-49d1-e86b-54534a432105"
      },
      "outputs": [
        {
          "data": {
            "text/plain": [
              "tensor([[ 5.,  6.],\n",
              "        [ 7.,  8.],\n",
              "        [ 9., 10.],\n",
              "        [42., 42.],\n",
              "        [42., 42.],\n",
              "        [42., 42.]])"
            ]
          },
          "execution_count": 28,
          "metadata": {},
          "output_type": "execute_result"
        }
      ],
      "source": [
        "# Concatenate two tensors with compatible shapes\n",
        "t7 = torch.cat((t2, t6))\n",
        "t7"
      ]
    },
    {
      "cell_type": "code",
      "execution_count": null,
      "metadata": {
        "id": "o69xjlyIkhZ5",
        "outputId": "b9bf770b-6e87-4005-8bf7-f8a62ad0f04b"
      },
      "outputs": [
        {
          "data": {
            "text/plain": [
              "tensor([[-0.9589, -0.2794],\n",
              "        [ 0.6570,  0.9894],\n",
              "        [ 0.4121, -0.5440],\n",
              "        [-0.9165, -0.9165],\n",
              "        [-0.9165, -0.9165],\n",
              "        [-0.9165, -0.9165]])"
            ]
          },
          "execution_count": 29,
          "metadata": {},
          "output_type": "execute_result"
        }
      ],
      "source": [
        "# Compute the sin of each element\n",
        "t8 = torch.sin(t7)\n",
        "t8"
      ]
    },
    {
      "cell_type": "code",
      "execution_count": null,
      "metadata": {
        "id": "7asUJsZkkhZ6",
        "outputId": "990761f0-cb2b-4a44-f25e-0419c2b87b97"
      },
      "outputs": [
        {
          "data": {
            "text/plain": [
              "tensor([[[-0.9589, -0.2794],\n",
              "         [ 0.6570,  0.9894]],\n",
              "\n",
              "        [[ 0.4121, -0.5440],\n",
              "         [-0.9165, -0.9165]],\n",
              "\n",
              "        [[-0.9165, -0.9165],\n",
              "         [-0.9165, -0.9165]]])"
            ]
          },
          "execution_count": 31,
          "metadata": {},
          "output_type": "execute_result"
        }
      ],
      "source": [
        "# Change the shape of a tensor\n",
        "t9 = t8.reshape(3, 2, 2)\n",
        "t9"
      ]
    },
    {
      "cell_type": "code",
      "execution_count": null,
      "metadata": {
        "id": "C5XIewSHkhZ6",
        "outputId": "c60afb57-9c74-4a4c-9c07-9fa743975f0f"
      },
      "outputs": [
        {
          "data": {
            "text/plain": [
              "tensor([[1., 0., 0.],\n",
              "        [0., 1., 0.],\n",
              "        [0., 0., 1.]])"
            ]
          },
          "execution_count": 32,
          "metadata": {},
          "output_type": "execute_result"
        }
      ],
      "source": [
        "# Create a a 2-D tensor with ones on the diagonal and zeros elsewhere.\n",
        "t11=torch.eye(3)\n",
        "t11"
      ]
    },
    {
      "cell_type": "code",
      "execution_count": null,
      "metadata": {
        "id": "civSKXtAkhZ6",
        "outputId": "b4ff0409-79e2-4ac0-920f-198c9256320e"
      },
      "outputs": [
        {
          "data": {
            "text/plain": [
              "(tensor([[1.],\n",
              "         [0.],\n",
              "         [0.]]),\n",
              " tensor([[0.],\n",
              "         [1.],\n",
              "         [0.]]),\n",
              " tensor([[0.],\n",
              "         [0.],\n",
              "         [1.]]))"
            ]
          },
          "execution_count": 33,
          "metadata": {},
          "output_type": "execute_result"
        }
      ],
      "source": [
        "#Splits the tensor into chunks. Each chunk is a view of the original tensor.\n",
        "torch.split(t11,1,1)"
      ]
    },
    {
      "cell_type": "code",
      "execution_count": null,
      "metadata": {
        "id": "rNAlWZGRkhZ7",
        "outputId": "dd057f5e-54c3-4d60-9f65-194884728343"
      },
      "outputs": [
        {
          "name": "stdout",
          "output_type": "stream",
          "text": [
            "tensor([[ 0.7752, -0.1149,  1.8323],\n",
            "        [ 0.2781,  0.3435, -0.7414]])\n"
          ]
        },
        {
          "data": {
            "text/plain": [
              "tensor([[ 0.7752,  0.2781],\n",
              "        [-0.1149,  0.3435],\n",
              "        [ 1.8323, -0.7414]])"
            ]
          },
          "execution_count": 37,
          "metadata": {},
          "output_type": "execute_result"
        }
      ],
      "source": [
        "#Expects input to be <= 2-D tensor and transposes dimensions 0 and 1.0-D and 1-D tensors are returned as is.\n",
        "#When input is a 2-D tensor this is equivalent to transpose(input, 0, 1).\n",
        "t12 = torch.randn(2, 3)\n",
        "print(t12)\n",
        "t13=torch.t(t12)\n",
        "t13"
      ]
    },
    {
      "cell_type": "code",
      "execution_count": null,
      "metadata": {
        "id": "o3AzbXTOkhZ7",
        "outputId": "4e5267ed-0e58-4945-ba0e-a4c5f6620283"
      },
      "outputs": [
        {
          "data": {
            "text/plain": [
              "tensor([0.9717, 0.9576, 0.4566, 0.6577])"
            ]
          },
          "execution_count": 38,
          "metadata": {},
          "output_type": "execute_result"
        }
      ],
      "source": [
        "#Returns a tensor filled with random numbers from a uniform distribution on the interval [0, 1)[0,1)\n",
        "torch.rand(4)"
      ]
    },
    {
      "cell_type": "code",
      "execution_count": null,
      "metadata": {
        "id": "UN5rgO04khZ7",
        "outputId": "af375e8a-64e1-450a-db01-d2398fce701f"
      },
      "outputs": [
        {
          "data": {
            "text/plain": [
              "tensor([[0.1863, 0.8822, 0.4624],\n",
              "        [0.8748, 0.1854, 0.8068]])"
            ]
          },
          "execution_count": 39,
          "metadata": {},
          "output_type": "execute_result"
        }
      ],
      "source": [
        "torch.rand(2, 3)"
      ]
    },
    {
      "cell_type": "code",
      "execution_count": null,
      "metadata": {
        "id": "qnauWsxgkhZ8",
        "outputId": "e8925a5b-21c8-46f7-f606-2550d27286dd"
      },
      "outputs": [
        {
          "data": {
            "text/plain": [
              "tensor([1, 2, 3])"
            ]
          },
          "execution_count": 40,
          "metadata": {},
          "output_type": "execute_result"
        }
      ],
      "source": [
        "#Computes the absolute value of each element in input.\n",
        "torch.abs(torch.tensor([-1, -2, 3]))"
      ]
    },
    {
      "cell_type": "code",
      "execution_count": null,
      "metadata": {
        "id": "LRARXYkkkhZ8",
        "outputId": "05cadd0d-e92e-4618-b23d-0378207e9c2e"
      },
      "outputs": [
        {
          "name": "stdout",
          "output_type": "stream",
          "text": [
            "tensor([0.5683, 0.5698, 0.5273, 0.1389])\n"
          ]
        },
        {
          "data": {
            "text/plain": [
              "tensor([20.5683, 20.5698, 20.5273, 20.1389])"
            ]
          },
          "execution_count": 41,
          "metadata": {},
          "output_type": "execute_result"
        }
      ],
      "source": [
        "#Adds the scalar other to each element of the input input and returns a new resulting tensor.\n",
        "a = torch.rand(4)\n",
        "print(a)\n",
        "torch.add(a, 20)"
      ]
    },
    {
      "cell_type": "code",
      "execution_count": null,
      "metadata": {
        "id": "eCq4DXdhkhZ8",
        "outputId": "01bdaa46-ed91-4032-89f8-5cd37c8675b2"
      },
      "outputs": [
        {
          "data": {
            "text/plain": [
              "tensor([ 0.0000,  0.5000, -0.2000])"
            ]
          },
          "execution_count": 42,
          "metadata": {},
          "output_type": "execute_result"
        }
      ],
      "source": [
        "#Computes the fractional portion of each element in input.\n",
        "torch.frac(torch.tensor([1, 2.5, -3.2]))"
      ]
    },
    {
      "cell_type": "code",
      "execution_count": null,
      "metadata": {
        "id": "2UeXVRnUkhZ9",
        "outputId": "5dd9558c-a574-4b77-f6ac-1f017626f4ed"
      },
      "outputs": [
        {
          "data": {
            "text/plain": [
              "tensor([1., 2.])"
            ]
          },
          "execution_count": 44,
          "metadata": {},
          "output_type": "execute_result"
        }
      ],
      "source": [
        "#Returns a new tensor with the exponential of the elements of the input tensor input.\n",
        "a = torch.rand(4)\n",
        "torch.exp(torch.tensor([0, torch.log(torch.tensor(2.))]))"
      ]
    },
    {
      "cell_type": "markdown",
      "metadata": {
        "id": "gxP8f_lakhZ9"
      },
      "source": [
        "You can learn more about tensor operations here: https://pytorch.org/docs/stable/torch.html . Experiment with some more tensor functions and operations using the empty cells below."
      ]
    },
    {
      "cell_type": "markdown",
      "metadata": {
        "id": "ZoZatVaukhZ9"
      },
      "source": [
        "# 5. Interoperability with Numpy"
      ]
    },
    {
      "cell_type": "markdown",
      "metadata": {
        "id": "RbYEitt2khZ9"
      },
      "source": [
        "Numpy is a popular open-source library used for mathematical and scientific computing in Python. It enables efficient operations on large multi-dimensional arrays and has a vast ecosystem of supporting libraries, including:\n",
        "\n",
        "Pandas for file I/O and data analysis\n",
        "\n",
        "Matplotlib for plotting and visualization\n",
        "\n",
        "OpenCV for image and video processing"
      ]
    },
    {
      "cell_type": "markdown",
      "metadata": {
        "id": "RWhYoMsAkhZ-"
      },
      "source": [
        "Instead of reinventing the wheel, PyTorch interoperates well with Numpy to leverage its existing ecosystem of tools and libraries.\n",
        "\n",
        "Here's how we create an array in Numpy:\n"
      ]
    },
    {
      "cell_type": "code",
      "execution_count": null,
      "metadata": {
        "id": "3onshgh1khZ-",
        "outputId": "5c4e1cfa-acb8-4132-80c4-92ffd49cf2ca"
      },
      "outputs": [
        {
          "data": {
            "text/plain": [
              "array([[1., 2.],\n",
              "       [3., 4.]])"
            ]
          },
          "execution_count": 45,
          "metadata": {},
          "output_type": "execute_result"
        }
      ],
      "source": [
        "import numpy as np\n",
        "\n",
        "x = np.array([[1, 2], [3, 4.]])\n",
        "x"
      ]
    },
    {
      "cell_type": "markdown",
      "metadata": {
        "id": "Um7irbKnkhZ-"
      },
      "source": [
        "We can convert a Numpy array to a PyTorch tensor using torch.from_numpy."
      ]
    },
    {
      "cell_type": "code",
      "execution_count": null,
      "metadata": {
        "id": "_5ZIC3PNkhZ-",
        "outputId": "b636486a-5b3d-4d2c-da61-c8bd3056e98d"
      },
      "outputs": [
        {
          "data": {
            "text/plain": [
              "tensor([[1., 2.],\n",
              "        [3., 4.]], dtype=torch.float64)"
            ]
          },
          "execution_count": 46,
          "metadata": {},
          "output_type": "execute_result"
        }
      ],
      "source": [
        "y = torch.from_numpy(x)\n",
        "y"
      ]
    },
    {
      "cell_type": "markdown",
      "metadata": {
        "id": "rG7qWOQ4khZ_"
      },
      "source": [
        "Let's verify that the numpy array and torch tensor have similar data types."
      ]
    },
    {
      "cell_type": "code",
      "execution_count": null,
      "metadata": {
        "id": "Aa48onrgkhZ_",
        "outputId": "365e04bd-2ef1-4535-a781-0b3b447cf027"
      },
      "outputs": [
        {
          "data": {
            "text/plain": [
              "(dtype('float64'), torch.float64)"
            ]
          },
          "execution_count": 47,
          "metadata": {},
          "output_type": "execute_result"
        }
      ],
      "source": [
        "x.dtype, y.dtype"
      ]
    },
    {
      "cell_type": "markdown",
      "metadata": {
        "id": "-SRPEUk6khZ_"
      },
      "source": [
        "We can convert a PyTorch tensor to a Numpy array using the .numpy method of a tensor."
      ]
    },
    {
      "cell_type": "code",
      "execution_count": null,
      "metadata": {
        "id": "SYpKbFltkhZ_",
        "outputId": "9868c530-1416-4db4-d000-067cea700db8"
      },
      "outputs": [
        {
          "data": {
            "text/plain": [
              "array([[1., 2.],\n",
              "       [3., 4.]])"
            ]
          },
          "execution_count": 48,
          "metadata": {},
          "output_type": "execute_result"
        }
      ],
      "source": [
        "# Convert a torch tensor to a numpy array\n",
        "z = y.numpy()\n",
        "z"
      ]
    },
    {
      "cell_type": "markdown",
      "metadata": {
        "id": "oSb25XqUkhaA"
      },
      "source": [
        "The interoperability between PyTorch and Numpy is essential because most datasets you'll work with will likely be read and preprocessed as Numpy arrays.\n",
        "\n",
        "You might wonder why we need a library like PyTorch at all since Numpy already provides data structures and utilities for working with multi-dimensional numeric data. There are two main reasons:\n",
        "\n",
        "Autograd: The ability to automatically compute gradients for tensor operations is essential for training deep learning models.\n",
        "GPU support: While working with massive datasets and large models, PyTorch tensor operations can be performed efficiently using a Graphics Processing Unit (GPU). Computations that might typically take hours can be completed within minutes using GPUs.\n",
        "We'll leverage both these features of PyTorch extensively in in the the coming sessions."
      ]
    }
  ],
  "metadata": {
    "kernelspec": {
      "display_name": "Python 3",
      "language": "python",
      "name": "python3"
    },
    "language_info": {
      "codemirror_mode": {
        "name": "ipython",
        "version": 3
      },
      "file_extension": ".py",
      "mimetype": "text/x-python",
      "name": "python",
      "nbconvert_exporter": "python",
      "pygments_lexer": "ipython3",
      "version": "3.8.8"
    },
    "colab": {
      "name": "Tutorial N° 1.ipynb",
      "provenance": [],
      "include_colab_link": true
    }
  },
  "nbformat": 4,
  "nbformat_minor": 0
}